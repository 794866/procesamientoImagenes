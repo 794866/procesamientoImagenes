{
 "cells": [
  {
   "cell_type": "code",
   "execution_count": 6,
   "id": "5d533710",
   "metadata": {},
   "outputs": [],
   "source": [
    "import numpy as np\n",
    "import os\n",
    "import re\n",
    "import matplotlib.pyplot as plt\n",
    "%matplotlib inline\n",
    "from sklearn.model_selection import train_test_split\n",
    "from sklearn.metrics import classification_report\n",
    "import tensorflow.keras\n",
    "from keras.utils import to_categorical\n",
    "from tensorflow.keras.models import Sequential, Model\n",
    "from tensorflow.python.keras import Input\n",
    "from tensorflow.keras.layers import Dense, Dropout, Flatten\n",
    "from tensorflow.keras.layers import Conv2D, MaxPooling2D\n",
    "from tensorflow.keras.layers import BatchNormalization, LeakyReLU"
   ]
  },
  {
   "cell_type": "code",
   "execution_count": 23,
   "id": "4b044e36",
   "metadata": {},
   "outputs": [
    {
     "name": "stdout",
     "output_type": "stream",
     "text": [
      "leyendo imagenes de  /home/nbellorin/PycharmProjects/procesamientoImagenes/spyderScripts/dataGenerated/resized/\n",
      "/home/nbellorin/PycharmProjects/procesamientoImagenes/spyderScripts/dataGenerated/resized/nodni 1\n",
      "/home/nbellorin/PycharmProjects/procesamientoImagenes/spyderScripts/dataGenerated/resized/dni 2399\n",
      "Directorios leidos: 2\n",
      "Imagenes en cada directorio [2400, 2898]\n",
      "suma Total de imagenes en subdirs: 5298\n"
     ]
    }
   ],
   "source": [
    "pathToImages = '/home/nbellorin/PycharmProjects/procesamientoImagenes/spyderScripts/dataGenerated/resized'\n",
    "\n",
    "#pathToImages = '/home/nbellorin/Documentos/universidad/TFM/neuronalNetworks/ClasificacionImagenesDeportes/sportimages'\n",
    "\n",
    "dirname = os.path.join(os.getcwd(), pathToImages)\n",
    "imgpath = dirname + os.sep \n",
    " \n",
    "images = []\n",
    "directories = []\n",
    "dircount = []\n",
    "prevRoot=''\n",
    "cant=0\n",
    " \n",
    "print(\"leyendo imagenes de \",imgpath)\n",
    " \n",
    "for root, dirnames, filenames in os.walk(imgpath):\n",
    "    for filename in filenames:\n",
    "        if re.search(\"\\.(jpg|jpeg|png|bmp|tiff)$\", filename):\n",
    "            cant=cant+1\n",
    "            filepath = os.path.join(root, filename)\n",
    "            image = plt.imread(filepath)\n",
    "            images.append(image)\n",
    "            b = \"Leyendo...\" + str(cant)\n",
    "            print (b, end=\"\\r\")\n",
    "            if prevRoot !=root:\n",
    "                print(root, cant)\n",
    "                prevRoot=root\n",
    "                directories.append(root)\n",
    "                dircount.append(cant)\n",
    "                cant=0\n",
    "dircount.append(cant)\n",
    "\n",
    "dircount = dircount[1:]\n",
    "dircount[0]=dircount[0]+1\n",
    "print('Directorios leidos:',len(directories))\n",
    "print(\"Imagenes en cada directorio\", dircount)\n",
    "print('suma Total de imagenes en subdirs:',sum(dircount))"
   ]
  },
  {
   "cell_type": "code",
   "execution_count": 24,
   "id": "6481c0c3",
   "metadata": {},
   "outputs": [
    {
     "name": "stdout",
     "output_type": "stream",
     "text": [
      "Cantidad etiquetas creadas:  5298\n",
      "0 nodni\n",
      "1 dni\n",
      "Total number of outputs :  2\n",
      "Output classes :  [0 1]\n"
     ]
    }
   ],
   "source": [
    "labels=[]\n",
    "indice=0\n",
    "for cantidad in dircount:\n",
    "    for i in range(cantidad):\n",
    "        labels.append(indice)\n",
    "    indice=indice+1\n",
    "print(\"Cantidad etiquetas creadas: \",len(labels))\n",
    " \n",
    "deportes=[]\n",
    "indice=0\n",
    "for directorio in directories:\n",
    "    name = directorio.split(os.sep)\n",
    "    print(indice , name[len(name)-1])\n",
    "    deportes.append(name[len(name)-1])\n",
    "    indice=indice+1\n",
    " \n",
    "y = np.array(labels)\n",
    "X = np.array(images, dtype=np.uint8) #convierto de lista a numpy\n",
    " \n",
    "# Find the unique numbers from the train labels\n",
    "classes = np.unique(y)\n",
    "nClasses = len(classes)\n",
    "print('Total number of outputs : ', nClasses)\n",
    "print('Output classes : ', classes)"
   ]
  },
  {
   "cell_type": "code",
   "execution_count": 26,
   "id": "1768eba4",
   "metadata": {},
   "outputs": [
    {
     "name": "stdout",
     "output_type": "stream",
     "text": [
      "Training data shape :  (4238, 21, 28, 3) (4238,)\n",
      "Testing data shape :  (1060, 21, 28, 3) (1060,)\n",
      "Original label: 0\n",
      "After conversion to one-hot: [1. 0.]\n",
      "(3390, 21, 28, 3) (848, 21, 28, 3) (3390, 2) (848, 2)\n"
     ]
    }
   ],
   "source": [
    "#Mezclar todo y crear los grupos de entrenamiento y testing\n",
    "train_X,test_X,train_Y,test_Y = train_test_split(X,y,test_size=0.2)\n",
    "print('Training data shape : ', train_X.shape, train_Y.shape)\n",
    "print('Testing data shape : ', test_X.shape, test_Y.shape)\n",
    " \n",
    "train_X = train_X.astype('float32')\n",
    "test_X = test_X.astype('float32')\n",
    "train_X = train_X / 255.\n",
    "test_X = test_X / 255.\n",
    " \n",
    "# Change the labels from categorical to one-hot encoding\n",
    "train_Y_one_hot = to_categorical(train_Y)\n",
    "test_Y_one_hot = to_categorical(test_Y)\n",
    " \n",
    "# Display the change for category label using one-hot encoding\n",
    "print('Original label:', train_Y[0])\n",
    "print('After conversion to one-hot:', train_Y_one_hot[0])\n",
    " \n",
    "train_X,valid_X,train_label,valid_label = train_test_split(train_X, train_Y_one_hot, test_size=0.2, random_state=13)\n",
    " \n",
    "print(train_X.shape,valid_X.shape,train_label.shape,valid_label.shape)"
   ]
  },
  {
   "cell_type": "code",
   "execution_count": 27,
   "id": "93a8e7d2",
   "metadata": {},
   "outputs": [
    {
     "name": "stdout",
     "output_type": "stream",
     "text": [
      "Model: \"sequential_2\"\n",
      "_________________________________________________________________\n",
      " Layer (type)                Output Shape              Param #   \n",
      "=================================================================\n",
      " conv2d_2 (Conv2D)           (None, 21, 28, 32)        896       \n",
      "                                                                 \n",
      " leaky_re_lu_4 (LeakyReLU)   (None, 21, 28, 32)        0         \n",
      "                                                                 \n",
      " max_pooling2d_2 (MaxPooling  (None, 11, 14, 32)       0         \n",
      " 2D)                                                             \n",
      "                                                                 \n",
      " dropout_4 (Dropout)         (None, 11, 14, 32)        0         \n",
      "                                                                 \n",
      " flatten_2 (Flatten)         (None, 4928)              0         \n",
      "                                                                 \n",
      " dense_4 (Dense)             (None, 32)                157728    \n",
      "                                                                 \n",
      " leaky_re_lu_5 (LeakyReLU)   (None, 32)                0         \n",
      "                                                                 \n",
      " dropout_5 (Dropout)         (None, 32)                0         \n",
      "                                                                 \n",
      " dense_5 (Dense)             (None, 2)                 66        \n",
      "                                                                 \n",
      "=================================================================\n",
      "Total params: 158,690\n",
      "Trainable params: 158,690\n",
      "Non-trainable params: 0\n",
      "_________________________________________________________________\n"
     ]
    }
   ],
   "source": [
    "INIT_LR = 1e-3\n",
    "epochs = 10\n",
    "batch_size = 100\n",
    " \n",
    "sport_model = Sequential()\n",
    "sport_model.add(Conv2D(32, kernel_size=(3, 3),activation='linear',padding='same',input_shape=(21,28,3)))\n",
    "sport_model.add(LeakyReLU(alpha=0.1))\n",
    "sport_model.add(MaxPooling2D((2, 2),padding='same'))\n",
    "sport_model.add(Dropout(0.5))\n",
    " \n",
    "sport_model.add(Flatten())\n",
    "sport_model.add(Dense(32, activation='linear'))\n",
    "sport_model.add(LeakyReLU(alpha=0.1))\n",
    "sport_model.add(Dropout(0.5)) \n",
    "sport_model.add(Dense(nClasses, activation='softmax'))\n",
    " \n",
    "sport_model.summary()\n",
    " \n",
    "sport_model.compile(loss=tensorflow.keras.losses.categorical_crossentropy, optimizer=tensorflow.keras.optimizers.Adagrad(lr=INIT_LR, decay=INIT_LR / 100),metrics=['accuracy'])"
   ]
  },
  {
   "cell_type": "code",
   "execution_count": null,
   "id": "10bd56d4",
   "metadata": {},
   "outputs": [],
   "source": []
  },
  {
   "cell_type": "code",
   "execution_count": 28,
   "id": "dcef437f",
   "metadata": {},
   "outputs": [
    {
     "name": "stdout",
     "output_type": "stream",
     "text": [
      "Epoch 1/10\n",
      "34/34 [==============================] - 1s 25ms/step - loss: 0.7434 - accuracy: 0.5027 - val_loss: 0.6871 - val_accuracy: 0.5802\n",
      "Epoch 2/10\n",
      "34/34 [==============================] - 1s 19ms/step - loss: 0.7071 - accuracy: 0.5192 - val_loss: 0.6850 - val_accuracy: 0.5861\n",
      "Epoch 3/10\n",
      "34/34 [==============================] - 1s 17ms/step - loss: 0.6982 - accuracy: 0.5271 - val_loss: 0.6824 - val_accuracy: 0.5861\n",
      "Epoch 4/10\n",
      "34/34 [==============================] - 1s 17ms/step - loss: 0.6823 - accuracy: 0.5540 - val_loss: 0.6777 - val_accuracy: 0.5873\n",
      "Epoch 5/10\n",
      "34/34 [==============================] - 1s 17ms/step - loss: 0.6838 - accuracy: 0.5558 - val_loss: 0.6730 - val_accuracy: 0.5861\n",
      "Epoch 6/10\n",
      "34/34 [==============================] - 1s 17ms/step - loss: 0.6843 - accuracy: 0.5619 - val_loss: 0.6714 - val_accuracy: 0.5873\n",
      "Epoch 7/10\n",
      "34/34 [==============================] - 1s 17ms/step - loss: 0.6733 - accuracy: 0.5785 - val_loss: 0.6636 - val_accuracy: 0.6085\n",
      "Epoch 8/10\n",
      "34/34 [==============================] - 1s 17ms/step - loss: 0.6639 - accuracy: 0.6018 - val_loss: 0.6467 - val_accuracy: 0.6769\n",
      "Epoch 9/10\n",
      "34/34 [==============================] - 1s 17ms/step - loss: 0.6605 - accuracy: 0.6018 - val_loss: 0.6320 - val_accuracy: 0.6745\n",
      "Epoch 10/10\n",
      "34/34 [==============================] - 1s 17ms/step - loss: 0.6533 - accuracy: 0.6118 - val_loss: 0.6158 - val_accuracy: 0.7252\n"
     ]
    }
   ],
   "source": [
    "sport_train_dropout = sport_model.fit(train_X, train_label, batch_size=batch_size,epochs=epochs,verbose=1,validation_data=(valid_X, valid_label))\n",
    " \n",
    "# guardamos la red, para reutilizarla en el futuro, sin tener que volver a entrenar\n",
    "#sport_model.save(\"sports_mnist.h5py\")"
   ]
  },
  {
   "cell_type": "code",
   "execution_count": 29,
   "id": "738204f1",
   "metadata": {},
   "outputs": [
    {
     "name": "stdout",
     "output_type": "stream",
     "text": [
      "34/34 [==============================] - 0s 3ms/step - loss: 0.6264 - accuracy: 0.6849\n",
      "Test loss: 0.6263940930366516\n",
      "Test accuracy: 0.6849056482315063\n"
     ]
    }
   ],
   "source": [
    "test_eval = sport_model.evaluate(test_X, test_Y_one_hot, verbose=1)\n",
    " \n",
    "print('Test loss:', test_eval[0])\n",
    "print('Test accuracy:', test_eval[1])"
   ]
  },
  {
   "cell_type": "code",
   "execution_count": null,
   "id": "e8caa762",
   "metadata": {},
   "outputs": [],
   "source": []
  }
 ],
 "metadata": {
  "kernelspec": {
   "display_name": "Python 3 (ipykernel)",
   "language": "python",
   "name": "python3"
  },
  "language_info": {
   "codemirror_mode": {
    "name": "ipython",
    "version": 3
   },
   "file_extension": ".py",
   "mimetype": "text/x-python",
   "name": "python",
   "nbconvert_exporter": "python",
   "pygments_lexer": "ipython3",
   "version": "3.9.12"
  }
 },
 "nbformat": 4,
 "nbformat_minor": 5
}
